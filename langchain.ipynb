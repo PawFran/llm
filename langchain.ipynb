{
 "cells": [
  {
   "cell_type": "code",
   "execution_count": 1,
   "id": "30fcdcf2-0b15-4352-b795-b41b51296c29",
   "metadata": {},
   "outputs": [],
   "source": [
    "from langchain_openai import ChatOpenAI"
   ]
  },
  {
   "cell_type": "code",
   "execution_count": 2,
   "id": "ed4a64ef-62a8-45eb-9ee1-b2c5f216dee6",
   "metadata": {},
   "outputs": [],
   "source": [
    "llm = ChatOpenAI()"
   ]
  },
  {
   "cell_type": "code",
   "execution_count": 4,
   "id": "8874c596-88de-400a-8e72-abc2bce1d22c",
   "metadata": {},
   "outputs": [
    {
     "data": {
      "text/plain": [
       "'loiter [verb]\\n1. To stand or wait around without any apparent purpose or reason, often in a public place.'"
      ]
     },
     "execution_count": 4,
     "metadata": {},
     "output_type": "execute_result"
    }
   ],
   "source": [
    "word = 'loiter'\n",
    "\n",
    "response = llm.invoke(\n",
    "f'''explain word \"{word}\" in the following format:\n",
    "word [part of speech]\n",
    "1. explanation'''\n",
    ")\n",
    "\n",
    "response.content"
   ]
  },
  {
   "cell_type": "code",
   "execution_count": null,
   "id": "c96fb2cc-162a-46e0-9a0d-da0d408bd98b",
   "metadata": {},
   "outputs": [],
   "source": []
  }
 ],
 "metadata": {
  "kernelspec": {
   "display_name": "Python 3 (ipykernel)",
   "language": "python",
   "name": "python3"
  },
  "language_info": {
   "codemirror_mode": {
    "name": "ipython",
    "version": 3
   },
   "file_extension": ".py",
   "mimetype": "text/x-python",
   "name": "python",
   "nbconvert_exporter": "python",
   "pygments_lexer": "ipython3",
   "version": "3.12.0"
  }
 },
 "nbformat": 4,
 "nbformat_minor": 5
}
