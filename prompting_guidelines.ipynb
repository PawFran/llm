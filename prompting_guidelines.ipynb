{
 "cells": [
  {
   "cell_type": "code",
   "execution_count": 2,
   "id": "b8d9558b-b5c8-4572-b8c5-1d6a43f68f82",
   "metadata": {},
   "outputs": [],
   "source": [
    "import os\n",
    "from openai import OpenAI"
   ]
  },
  {
   "cell_type": "code",
   "execution_count": null,
   "id": "d2de0977-2ece-41fc-ad8d-95859cc2a64a",
   "metadata": {},
   "outputs": [],
   "source": [
    "client = OpenAI(\n",
    "    api_key=os.environ.get(\"OPENAI_API_KEY\"),\n",
    ")"
   ]
  },
  {
   "cell_type": "code",
   "execution_count": 15,
   "id": "17fa6e0e-3e5d-4c6c-9b70-f0109bbdd36d",
   "metadata": {},
   "outputs": [],
   "source": [
    "def get_completion(prompt, model=\"gpt-3.5-turbo\"):\n",
    "    chat_completion = client.chat.completions.create(\n",
    "        messages=[\n",
    "            {\n",
    "                \"role\": \"user\",\n",
    "                \"content\": prompt,\n",
    "            }\n",
    "        ],\n",
    "        model=model,\n",
    "    )\n",
    "    return chat_completion.choices[0].message.content"
   ]
  },
  {
   "cell_type": "code",
   "execution_count": 16,
   "id": "98d65e43-f9fb-4af2-b4cb-4fdf6392ff66",
   "metadata": {},
   "outputs": [
    {
     "data": {
      "text/plain": [
       "\"Did you know that the world's largest snowflake was recorded in 1887 in Montana? It measured 15 inches wide!\""
      ]
     },
     "execution_count": 16,
     "metadata": {},
     "output_type": "execute_result"
    }
   ],
   "source": [
    "get_completion('tell me sth')"
   ]
  },
  {
   "cell_type": "code",
   "execution_count": 17,
   "id": "b6ecddb6-0f47-4248-aac9-a47f550728f4",
   "metadata": {},
   "outputs": [
    {
     "data": {
      "text/plain": [
       "'15 inches is equal to 38.1 centimeters. \\n\\n1 inch is equal to 2.54 centimeters. \\n\\nSo, to convert inches to centimeters, you would multiply the number of inches by 2.54. \\n\\n15 inches * 2.54 = 38.1 centimeters.'"
      ]
     },
     "execution_count": 17,
     "metadata": {},
     "output_type": "execute_result"
    }
   ],
   "source": [
    "get_completion('15 inches - how many cm is that ?')"
   ]
  },
  {
   "cell_type": "code",
   "execution_count": 19,
   "id": "6205fd5f-e34a-4ca3-a90e-5a8e01dcf0b6",
   "metadata": {},
   "outputs": [
    {
     "data": {
      "text/plain": [
       "\"I apologize for the confusion, but I am an AI and cannot browse the internet or provide sources for information. However, you can verify the information about the world's largest snowflake by conducting a search online or looking for reputable sources such as scientific journals, news articles, or documentaries.\""
      ]
     },
     "execution_count": 19,
     "metadata": {},
     "output_type": "execute_result"
    }
   ],
   "source": [
    "get_completion(f'''give me source for your info about \"world's largest snowflake\"''')"
   ]
  },
  {
   "cell_type": "code",
   "execution_count": 20,
   "id": "ec007ddc-db97-4ccb-ad24-d6ddeb9d965a",
   "metadata": {},
   "outputs": [
    {
     "data": {
      "text/plain": [
       "'\"Believe you can and you\\'re halfway there.\" - Theodore Roosevelt\\n\\n\"The only way to achieve the impossible is to believe it is possible.\" - Charles Kingsleigh\\n\\n\"In the middle of difficulty lies opportunity.\" - Albert Einstein\\n\\n\"Success is not final, failure is not fatal: It is the courage to continue that counts.\" - Winston Churchill\\n\\n\"The best way to predict the future is to create it.\" - Peter Drucker'"
      ]
     },
     "execution_count": 20,
     "metadata": {},
     "output_type": "execute_result"
    }
   ],
   "source": [
    "get_completion(f'''but maybe you can give me some quote ?''')"
   ]
  },
  {
   "cell_type": "code",
   "execution_count": null,
   "id": "c919b765-a488-4530-be89-9fe97a0b894d",
   "metadata": {},
   "outputs": [],
   "source": []
  }
 ],
 "metadata": {
  "kernelspec": {
   "display_name": "Python 3 (ipykernel)",
   "language": "python",
   "name": "python3"
  },
  "language_info": {
   "codemirror_mode": {
    "name": "ipython",
    "version": 3
   },
   "file_extension": ".py",
   "mimetype": "text/x-python",
   "name": "python",
   "nbconvert_exporter": "python",
   "pygments_lexer": "ipython3",
   "version": "3.12.0"
  }
 },
 "nbformat": 4,
 "nbformat_minor": 5
}
